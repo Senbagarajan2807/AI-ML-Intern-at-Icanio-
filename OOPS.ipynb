{
  "nbformat": 4,
  "nbformat_minor": 0,
  "metadata": {
    "colab": {
      "provenance": []
    },
    "kernelspec": {
      "name": "python3",
      "display_name": "Python 3"
    },
    "language_info": {
      "name": "python"
    }
  },
  "cells": [
    {
      "cell_type": "markdown",
      "source": [
        "# ***DAY-2,OOPS IN PYTHON***"
      ],
      "metadata": {
        "id": "YztUJAbMYNPm"
      }
    },
    {
      "cell_type": "markdown",
      "source": [
        "**Creating a class and objects with --init-- and --str-- methods**"
      ],
      "metadata": {
        "id": "dLihCrV7yJbk"
      }
    },
    {
      "cell_type": "code",
      "source": [
        "class car:\n",
        "  a = 5\n",
        "\n",
        "  def __init__(self,company,mode):\n",
        "     self.company = company\n",
        "     self.mode = mode\n",
        "  def __str__(self):\n",
        "    return f\"The car is manufactured by {self.company}\"\n",
        "b = car('Toyota','Corolla')\n",
        "c = car('Honda','Civic')\n",
        "print(b)"
      ],
      "metadata": {
        "colab": {
          "base_uri": "https://localhost:8080/"
        },
        "id": "OFJoaNmdyGk4",
        "outputId": "d767b184-ab44-468b-fc7f-075b94910508"
      },
      "execution_count": null,
      "outputs": [
        {
          "output_type": "stream",
          "name": "stdout",
          "text": [
            "The car is manufactured by Toyota\n"
          ]
        }
      ]
    },
    {
      "cell_type": "code",
      "execution_count": null,
      "metadata": {
        "colab": {
          "base_uri": "https://localhost:8080/"
        },
        "id": "tDO5ScObxu2p",
        "outputId": "d386d31c-dd59-44a0-ead8-ada488650b6e"
      },
      "outputs": [
        {
          "output_type": "stream",
          "name": "stdout",
          "text": [
            "Toyota\n",
            "Honda\n",
            "5\n",
            "5\n"
          ]
        }
      ],
      "source": [
        "print(b.company)\n",
        "print(c.company)\n",
        "print(c.a)\n",
        "print(car.a)"
      ]
    },
    {
      "cell_type": "markdown",
      "source": [
        "# **1.INHERITANCE**"
      ],
      "metadata": {
        "id": "isTljP8-YgdR"
      }
    },
    {
      "cell_type": "markdown",
      "source": [
        "**Single Inheritance**"
      ],
      "metadata": {
        "id": "q3XCxT0u1-iX"
      }
    },
    {
      "cell_type": "code",
      "source": [
        "class parent:\n",
        "  def intro(self):\n",
        "    print(\"This is the parent class\")\n",
        "class child(parent):\n",
        "  def hello(self):\n",
        "    print(\"This is the child class.\")\n",
        "a = child()\n",
        "a.intro()\n",
        "a.hello()\n",
        "\n",
        "\n"
      ],
      "metadata": {
        "colab": {
          "base_uri": "https://localhost:8080/"
        },
        "id": "UtFu27jdz6ia",
        "outputId": "18edbda4-930c-43f4-85ef-104d8dbe0068"
      },
      "execution_count": null,
      "outputs": [
        {
          "output_type": "stream",
          "name": "stdout",
          "text": [
            "This is the parent class\n",
            "This is the child class.\n"
          ]
        }
      ]
    },
    {
      "cell_type": "markdown",
      "source": [
        "**Multiple Inheritance**"
      ],
      "metadata": {
        "id": "kxc4pc9zR6Hk"
      }
    },
    {
      "cell_type": "code",
      "source": [
        "class Father:\n",
        "  def intro(self):\n",
        "    print(\"This is Father class\")\n",
        "class Mother:\n",
        "  def hello(self):\n",
        "    print(\"This is the Mother class.\")\n",
        "class child(Father,Mother):\n",
        "  def hi(self):\n",
        "    print(\"This is Child class.\")\n",
        "d = child()\n",
        "d.intro()\n",
        "d.hello()\n",
        "d.hi()"
      ],
      "metadata": {
        "colab": {
          "base_uri": "https://localhost:8080/"
        },
        "id": "Bvm0BnHaJrya",
        "outputId": "222cf4aa-eb66-4fb7-a804-56340b992805"
      },
      "execution_count": null,
      "outputs": [
        {
          "output_type": "stream",
          "name": "stdout",
          "text": [
            "This is Father class\n",
            "This is the Mother class.\n",
            "This is Child class.\n"
          ]
        }
      ]
    },
    {
      "cell_type": "markdown",
      "source": [
        "**Multilevel Inheritance**"
      ],
      "metadata": {
        "id": "qbjPZ2DcSvyP"
      }
    },
    {
      "cell_type": "code",
      "source": [
        "class grandpa:\n",
        "  def hello(self):\n",
        "    print(\"This is grandpa class.\")\n",
        "class Father(grandpa):\n",
        "  def intro(self):\n",
        "    print(\"This is Father class.\")\n",
        "class child(Father):\n",
        "  def hi(self):\n",
        "    print(\"This is child class.\")\n",
        "m =child()\n",
        "m.hello()\n",
        "m.intro()\n",
        "m.hi()"
      ],
      "metadata": {
        "colab": {
          "base_uri": "https://localhost:8080/"
        },
        "id": "XRD9VQ7jSu_s",
        "outputId": "a538f8f4-8e16-48f5-b203-1675b98f74a8"
      },
      "execution_count": null,
      "outputs": [
        {
          "output_type": "stream",
          "name": "stdout",
          "text": [
            "This is grandpa class.\n",
            "This is Father class.\n",
            "This is child class.\n"
          ]
        }
      ]
    },
    {
      "cell_type": "markdown",
      "source": [
        "**Hierarchical Inheritance**"
      ],
      "metadata": {
        "id": "lrPEuTi4UECa"
      }
    },
    {
      "cell_type": "code",
      "source": [
        "class mother:\n",
        "  def hello(self):\n",
        "    print(\"This is mother class.\")\n",
        "class brother(mother):\n",
        "  def hi(self):\n",
        "    print(\"This is brother class.\")\n",
        "class sister(mother):\n",
        "  def intro(self):\n",
        "    print(\"This is sister class.\")\n",
        "i = brother()\n",
        "j = sister()\n",
        "i.hello()\n",
        "i.hi() #brother is i so object i is used\n",
        "j.intro() #sister is j so object j is used\n"
      ],
      "metadata": {
        "colab": {
          "base_uri": "https://localhost:8080/"
        },
        "id": "cPjWkj7wUmJe",
        "outputId": "d093a67c-0223-40fa-a45f-7c5b84df7b22"
      },
      "execution_count": null,
      "outputs": [
        {
          "output_type": "stream",
          "name": "stdout",
          "text": [
            "This is mother class.\n",
            "This is brother class.\n",
            "This is sister class.\n"
          ]
        }
      ]
    },
    {
      "cell_type": "markdown",
      "source": [
        "**Hybrid inheritance**"
      ],
      "metadata": {
        "id": "wLCcIMfUWfSm"
      }
    },
    {
      "cell_type": "code",
      "source": [
        "class grandpa:\n",
        "  def hi(self):\n",
        "    print(\"This is grandpa class.\")\n",
        "class father(grandpa):\n",
        "  def hello(self):\n",
        "    print(\"This is father class.\")\n",
        "class mom:\n",
        "  def howdy(self):\n",
        "    print(\"This is mom class.\")\n",
        "class family(father,mom):  #multilevel + multiple\n",
        "  def greeting(self):\n",
        "    print(\"This is family class.\")\n",
        "n = family()\n",
        "m = mom()\n",
        "n.hi()\n",
        "n.hello()\n",
        "m.howdy()\n",
        "n.greeting()"
      ],
      "metadata": {
        "colab": {
          "base_uri": "https://localhost:8080/"
        },
        "id": "q2oNZEKgVB5j",
        "outputId": "e03afb99-7b51-49e8-8386-cf59dd040bc7"
      },
      "execution_count": null,
      "outputs": [
        {
          "output_type": "stream",
          "name": "stdout",
          "text": [
            "This is grandpa class.\n",
            "This is father class.\n",
            "This is mom class.\n",
            "This is family class.\n"
          ]
        }
      ]
    },
    {
      "cell_type": "markdown",
      "source": [
        "**Evaluation of inheritance**"
      ],
      "metadata": {
        "id": "MYEF7BgXbVV0"
      }
    },
    {
      "cell_type": "markdown",
      "source": [
        "*Create a class Employee with attributes name and salary, and a method display().\n",
        "Then create a class Manager that inherits from Employee and adds a department attribute and overrides the display() method to show all details*."
      ],
      "metadata": {
        "id": "Sk45LtIobOkw"
      }
    },
    {
      "cell_type": "code",
      "source": [
        "class Employee:\n",
        "  def __init__(self,name,salary):\n",
        "    self.name=name\n",
        "    self.salary=salary\n",
        "  def display(self):\n",
        "    print (f\"Name:{self.name}\")\n",
        "    print (f\"Salary:{self.salary}\")\n",
        "class Manager(Employee):\n",
        "  def __init__(self,name,salary,department):\n",
        "    super().__init__(name,salary)\n",
        "    self.department=department\n",
        "  def display(self):\n",
        "      super().display()\n",
        "      print(f\"Department:{self.department}\")\n",
        "k = Manager('Sen',100000,'CSE')\n",
        "k.display()\n",
        "\n"
      ],
      "metadata": {
        "colab": {
          "base_uri": "https://localhost:8080/"
        },
        "id": "7It8LUt7YzRa",
        "outputId": "6ab4d079-f1a5-4d8b-d46a-0199957e0bb5"
      },
      "execution_count": null,
      "outputs": [
        {
          "output_type": "stream",
          "name": "stdout",
          "text": [
            "Name:Sen\n",
            "Salary:100000\n",
            "Department:CSE\n"
          ]
        }
      ]
    },
    {
      "cell_type": "markdown",
      "source": [
        "# **2.ENCAPSULATION**"
      ],
      "metadata": {
        "id": "Oh6rc0uTfNOr"
      }
    },
    {
      "cell_type": "markdown",
      "source": [
        "## **a).Public encapsulation**\n"
      ],
      "metadata": {
        "id": "3YXOXaqCzoY-"
      }
    },
    {
      "cell_type": "code",
      "source": [
        "class grandpa:\n",
        "  def __init__(self,age):\n",
        "    self.age = age\n",
        "a = grandpa(70)\n",
        "print(a.age)\n"
      ],
      "metadata": {
        "colab": {
          "base_uri": "https://localhost:8080/"
        },
        "id": "eMKLHZDuzmB0",
        "outputId": "b8e2684a-e502-44c3-a7e7-c7c95e48486e"
      },
      "execution_count": null,
      "outputs": [
        {
          "output_type": "stream",
          "name": "stdout",
          "text": [
            "70\n"
          ]
        }
      ]
    },
    {
      "cell_type": "markdown",
      "source": [
        "## **b).Protected encapsulation**"
      ],
      "metadata": {
        "id": "entqWrPw0tHE"
      }
    },
    {
      "cell_type": "code",
      "source": [
        "class grandpa:\n",
        "  def __init__(self,age):\n",
        "    self._age=age\n",
        "a = grandpa(76)\n",
        "print(a._age)"
      ],
      "metadata": {
        "colab": {
          "base_uri": "https://localhost:8080/"
        },
        "id": "eZlx7Wep0zqb",
        "outputId": "48a3cc4c-57dd-4676-e091-55224b5afb3c"
      },
      "execution_count": null,
      "outputs": [
        {
          "output_type": "stream",
          "name": "stdout",
          "text": [
            "76\n"
          ]
        }
      ]
    },
    {
      "cell_type": "markdown",
      "source": [
        "## **c).Private encapsulation**"
      ],
      "metadata": {
        "id": "eOCgSCRS20zy"
      }
    },
    {
      "cell_type": "code",
      "source": [
        "class grandpa:\n",
        "  def __init__(self,age):\n",
        "    self.__age=age\n",
        "a = grandpa(76)\n",
        "print(a._grandpa__age)\n",
        "\n",
        "#Error while giving print(a.__age)"
      ],
      "metadata": {
        "colab": {
          "base_uri": "https://localhost:8080/"
        },
        "id": "aMKHAz2Q3CnW",
        "outputId": "010b5438-7c87-48ed-9e10-9254b730b809"
      },
      "execution_count": null,
      "outputs": [
        {
          "output_type": "stream",
          "name": "stdout",
          "text": [
            "76\n"
          ]
        }
      ]
    },
    {
      "cell_type": "markdown",
      "source": [
        "**Getter method**"
      ],
      "metadata": {
        "id": "Ynx0IZk55g_f"
      }
    },
    {
      "cell_type": "code",
      "source": [
        "class grandpa:\n",
        "  def __init__(self,name):\n",
        "    self.__name = name\n",
        "  def get_name(self):\n",
        "    return self.__name\n",
        "a = grandpa('John')\n",
        "print(a.get_name())\n",
        "print(a._grandpa__name)"
      ],
      "metadata": {
        "colab": {
          "base_uri": "https://localhost:8080/"
        },
        "id": "qyziaLTV5pIb",
        "outputId": "d70644f9-488b-4da0-c43b-81eab427562d"
      },
      "execution_count": null,
      "outputs": [
        {
          "output_type": "stream",
          "name": "stdout",
          "text": [
            "John\n",
            "John\n"
          ]
        }
      ]
    },
    {
      "cell_type": "markdown",
      "source": [
        "**Setter Method**"
      ],
      "metadata": {
        "id": "ztjWyFB17DNb"
      }
    },
    {
      "cell_type": "code",
      "source": [
        "class Student:\n",
        "    def __init__(self):\n",
        "        self.__name = None\n",
        "\n",
        "    def set_name(self, new_name):\n",
        "        self.__name = new_name\n",
        "        print(\"Name set successfully!\")\n",
        "\n",
        "    def get_name(self):\n",
        "        return self.__name\n",
        "\n",
        "\n",
        "s = Student()\n",
        "s.set_name(\"Senbaga\")\n",
        "print(s.get_name())\n"
      ],
      "metadata": {
        "id": "gFUFEWanjzx3",
        "colab": {
          "base_uri": "https://localhost:8080/"
        },
        "outputId": "fac80366-3956-4fee-fb57-0af3509465a9"
      },
      "execution_count": 1,
      "outputs": [
        {
          "output_type": "stream",
          "name": "stdout",
          "text": [
            "Name set successfully!\n",
            "Senbaga\n"
          ]
        }
      ]
    },
    {
      "cell_type": "markdown",
      "source": [
        "# **3).POLYMORPHISM**"
      ],
      "metadata": {
        "id": "5yPxG8_-_Yj7"
      }
    },
    {
      "cell_type": "markdown",
      "source": [
        "**a).Duck Typing**"
      ],
      "metadata": {
        "id": "eAunjZbt_knf"
      }
    },
    {
      "cell_type": "code",
      "source": [
        "class Peacock:\n",
        "  def fly(self):\n",
        "    print(\"I can fly.\")\n",
        "class Eagle:\n",
        "  def fly(self):\n",
        "    print(\"I can fly.\")\n",
        "class Lion:\n",
        "  def walk(self):   #gives error cuz Class lion doen't have fly() method\n",
        "    print(\"I can't fly.\")\n",
        "def flying(Birds):\n",
        "  Birds.fly()\n",
        "a=Peacock()\n",
        "b=Eagle()\n",
        "c=Lion()\n",
        "flying(a)\n",
        "flying(b)\n",
        "flying(c)"
      ],
      "metadata": {
        "colab": {
          "base_uri": "https://localhost:8080/",
          "height": 332
        },
        "id": "wfTZAiGD_fYu",
        "outputId": "5827a856-d600-4128-aba2-9a32109db24f"
      },
      "execution_count": 1,
      "outputs": [
        {
          "output_type": "stream",
          "name": "stdout",
          "text": [
            "I can fly.\n",
            "I can fly.\n"
          ]
        },
        {
          "output_type": "error",
          "ename": "AttributeError",
          "evalue": "'Lion' object has no attribute 'fly'",
          "traceback": [
            "\u001b[0;31m---------------------------------------------------------------------------\u001b[0m",
            "\u001b[0;31mAttributeError\u001b[0m                            Traceback (most recent call last)",
            "\u001b[0;32m/tmp/ipython-input-1-515278798.py\u001b[0m in \u001b[0;36m<cell line: 0>\u001b[0;34m()\u001b[0m\n\u001b[1;32m     15\u001b[0m \u001b[0mflying\u001b[0m\u001b[0;34m(\u001b[0m\u001b[0ma\u001b[0m\u001b[0;34m)\u001b[0m\u001b[0;34m\u001b[0m\u001b[0;34m\u001b[0m\u001b[0m\n\u001b[1;32m     16\u001b[0m \u001b[0mflying\u001b[0m\u001b[0;34m(\u001b[0m\u001b[0mb\u001b[0m\u001b[0;34m)\u001b[0m\u001b[0;34m\u001b[0m\u001b[0;34m\u001b[0m\u001b[0m\n\u001b[0;32m---> 17\u001b[0;31m \u001b[0mflying\u001b[0m\u001b[0;34m(\u001b[0m\u001b[0mc\u001b[0m\u001b[0;34m)\u001b[0m\u001b[0;34m\u001b[0m\u001b[0;34m\u001b[0m\u001b[0m\n\u001b[0m",
            "\u001b[0;32m/tmp/ipython-input-1-515278798.py\u001b[0m in \u001b[0;36mflying\u001b[0;34m(Birds)\u001b[0m\n\u001b[1;32m      9\u001b[0m     \u001b[0mprint\u001b[0m\u001b[0;34m(\u001b[0m\u001b[0;34m\"I can't fly.\"\u001b[0m\u001b[0;34m)\u001b[0m\u001b[0;34m\u001b[0m\u001b[0;34m\u001b[0m\u001b[0m\n\u001b[1;32m     10\u001b[0m \u001b[0;32mdef\u001b[0m \u001b[0mflying\u001b[0m\u001b[0;34m(\u001b[0m\u001b[0mBirds\u001b[0m\u001b[0;34m)\u001b[0m\u001b[0;34m:\u001b[0m\u001b[0;34m\u001b[0m\u001b[0;34m\u001b[0m\u001b[0m\n\u001b[0;32m---> 11\u001b[0;31m   \u001b[0mBirds\u001b[0m\u001b[0;34m.\u001b[0m\u001b[0mfly\u001b[0m\u001b[0;34m(\u001b[0m\u001b[0;34m)\u001b[0m\u001b[0;34m\u001b[0m\u001b[0;34m\u001b[0m\u001b[0m\n\u001b[0m\u001b[1;32m     12\u001b[0m \u001b[0ma\u001b[0m\u001b[0;34m=\u001b[0m\u001b[0mPeacock\u001b[0m\u001b[0;34m(\u001b[0m\u001b[0;34m)\u001b[0m\u001b[0;34m\u001b[0m\u001b[0;34m\u001b[0m\u001b[0m\n\u001b[1;32m     13\u001b[0m \u001b[0mb\u001b[0m\u001b[0;34m=\u001b[0m\u001b[0mEagle\u001b[0m\u001b[0;34m(\u001b[0m\u001b[0;34m)\u001b[0m\u001b[0;34m\u001b[0m\u001b[0;34m\u001b[0m\u001b[0m\n",
            "\u001b[0;31mAttributeError\u001b[0m: 'Lion' object has no attribute 'fly'"
          ]
        }
      ]
    },
    {
      "cell_type": "markdown",
      "source": [
        "**Duck Typing Using hasattr()**"
      ],
      "metadata": {
        "id": "REiYicnnDx_c"
      }
    },
    {
      "cell_type": "code",
      "source": [
        "def flying(Birds):\n",
        "  if hasattr(Birds,'fly'):\n",
        "     Birds.fly()\n",
        "a=Peacock()\n",
        "b=Eagle()\n",
        "c=Lion()\n",
        "flying(a)\n",
        "flying(b)\n",
        "flying(c)"
      ],
      "metadata": {
        "colab": {
          "base_uri": "https://localhost:8080/"
        },
        "id": "7HBfe0J0Dxeo",
        "outputId": "9394b447-f0cf-48af-e4bd-3681ed913913"
      },
      "execution_count": 4,
      "outputs": [
        {
          "output_type": "stream",
          "name": "stdout",
          "text": [
            "I can fly.\n",
            "I can fly.\n"
          ]
        }
      ]
    },
    {
      "cell_type": "markdown",
      "source": [
        "**b).Operator Overloading**"
      ],
      "metadata": {
        "id": "DiocS_FQEM2q"
      }
    },
    {
      "cell_type": "code",
      "source": [
        "class Book:\n",
        "  def __init__(self,pages):\n",
        "    self.pages=pages\n",
        "  def __add__(self,other):\n",
        "    return self.pages+other.pages\n",
        "b1=Book(100)\n",
        "b2=Book(200)\n",
        "print(b1+b2)\n",
        ""
      ],
      "metadata": {
        "colab": {
          "base_uri": "https://localhost:8080/"
        },
        "id": "Bg6RgNGhEYRb",
        "outputId": "97c8a4c9-2151-4e72-ac27-d6099d0e5812"
      },
      "execution_count": 6,
      "outputs": [
        {
          "output_type": "stream",
          "name": "stdout",
          "text": [
            "300\n"
          ]
        }
      ]
    },
    {
      "cell_type": "markdown",
      "source": [
        "**c).Method Overriding**"
      ],
      "metadata": {
        "id": "nlBL1h99GW9K"
      }
    },
    {
      "cell_type": "code",
      "source": [
        "class grandpa:\n",
        "  def height(self):\n",
        "    print(\"I'm Tall.\")\n",
        "class father(grandpa):\n",
        "  def height(self):\n",
        "    print(\"I'm average height.\") # Overriding the parent's height method\n",
        "c = father()\n",
        "c.height()"
      ],
      "metadata": {
        "colab": {
          "base_uri": "https://localhost:8080/"
        },
        "id": "Rz95OCeqGeRt",
        "outputId": "2e5ec7cc-da9c-445b-ddc5-63cf446bb86e"
      },
      "execution_count": 8,
      "outputs": [
        {
          "output_type": "stream",
          "name": "stdout",
          "text": [
            "I'm average height.\n"
          ]
        }
      ]
    },
    {
      "cell_type": "markdown",
      "source": [
        "# **4).ABSTRACTION**"
      ],
      "metadata": {
        "id": "CcAHDUOKIa4o"
      }
    },
    {
      "cell_type": "code",
      "source": [
        "from abc import ABC, abstractmethod\n",
        "\n",
        "class Bank(ABC):\n",
        "    @abstractmethod\n",
        "    def loan_interest(self):\n",
        "        pass\n",
        "\n",
        "class SBI(Bank):\n",
        "    def loan_interest(self):\n",
        "        print(\"SBI loan interest: 8%\")\n",
        "\n",
        "class HDFC(Bank):\n",
        "    def loan_interest(self):\n",
        "        print(\"HDFC loan interest: 9%\")\n",
        "\n",
        "s = SBI()\n",
        "s.loan_interest()\n",
        "\n",
        "h = HDFC()\n",
        "h.loan_interest()\n"
      ],
      "metadata": {
        "colab": {
          "base_uri": "https://localhost:8080/"
        },
        "id": "LzjOMFOjIhwi",
        "outputId": "d3829fbc-db29-4d2e-ec44-121aa65d3ef5"
      },
      "execution_count": 2,
      "outputs": [
        {
          "output_type": "stream",
          "name": "stdout",
          "text": [
            "SBI loan interest: 8%\n",
            "HDFC loan interest: 9%\n"
          ]
        }
      ]
    }
  ]
}